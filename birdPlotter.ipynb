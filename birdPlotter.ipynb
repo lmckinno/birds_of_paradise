{
 "cells": [
  {
   "cell_type": "code",
   "execution_count": 1,
   "metadata": {},
   "outputs": [
    {
     "name": "stderr",
     "output_type": "stream",
     "text": [
      "── Attaching packages ─────────────────────────────────────── tidyverse 1.2.1 ──\n",
      "✔ ggplot2 2.2.1     ✔ purrr   0.2.4\n",
      "✔ tibble  1.4.2     ✔ dplyr   0.7.4\n",
      "✔ tidyr   0.8.0     ✔ stringr 1.3.1\n",
      "✔ readr   1.1.1     ✔ forcats 0.2.0\n",
      "── Conflicts ────────────────────────────────────────── tidyverse_conflicts() ──\n",
      "✖ dplyr::filter() masks stats::filter()\n",
      "✖ dplyr::lag()    masks stats::lag()\n"
     ]
    },
    {
     "ename": "ERROR",
     "evalue": "Error: 'journal.pbio.2006962.s003.csv' does not exist in current working directory ('/home/jovyan').\n",
     "output_type": "error",
     "traceback": [
      "Error: 'journal.pbio.2006962.s003.csv' does not exist in current working directory ('/home/jovyan').\nTraceback:\n",
      "1. read_csv(\"journal.pbio.2006962.s003.csv\")",
      "2. read_delimited(file, tokenizer, col_names = col_names, col_types = col_types, \n .     locale = locale, skip = skip, comment = comment, n_max = n_max, \n .     guess_max = guess_max, progress = progress)",
      "3. standardise_path(file)",
      "4. check_path(path)",
      "5. stop(\"'\", path, \"' does not exist\", if (!is_absolute_path(path)) paste0(\" in current working directory ('\", \n .     getwd(), \"')\"), \".\", call. = FALSE)"
     ]
    }
   ],
   "source": [
    "library(tidyverse)\n",
    "birdData <- read_csv(\"journal.pbio.2006962.s003.csv\")\n",
    "birdData <- birdData[,1:9]\n",
    "colnames(birdData) = c(\"Species\", \"Color Richness\", \"Behavioral Richness\", \"Acoustic Richness\", \"Color Diversity\", \"Behavioral Diversity\", \"Acoustic Diversity\", \"Display Proximity\", \"Display Height\")\n",
    "birdData$`Color Richness` = log(birdData$`Color Richness`)\n",
    "birdData$`Behavioral Richness` = log(birdData$`Behavioral Richness`)\n",
    "birdData$`Acoustic Richness` = log(birdData$`Acoustic Richness`)\n",
    "birdData$`Display Height` = factor(birdData$`Display Height`,levels=c(\"ground\",\"understory\",\"canopy\"))\n",
    "birdData$`Display Proximity` = factor(birdData$`Display Proximity`, levels = c(\"Solitary\", \"Exploded Lek\", \"Lek\"))\n",
    "\n",
    "tidyData = gather(birdData,key = \"TypeRichness\", value = \"Richness\",-Species, -`Display Height`, -`Display Proximity`, -`Color Diversity`, -`Behavioral Diversity`, -`Acoustic Diversity`)\n",
    "tidyData$TypeRichness = factor(tidyData$TypeRichness)\n",
    "levels(tidyData$Richness) <- c(\"Acoustic Richness\", \"Behavioral Richness\" , \"Color Richness\")"
   ]
  },
  {
   "cell_type": "code",
   "execution_count": null,
   "metadata": {},
   "outputs": [],
   "source": [
    "ggplot(tidyData,aes(x = `Display Height`,y = as.numeric(Richness),fill=`Display Height`)) +\n",
    "  facet_wrap(~ TypeRichness) +\n",
    "   geom_violin() +\n",
    "  geom_point() +\n",
    "  labs(x = \"Display Height\", y = \"Richness (log)\") +\n",
    "  guides(fill=FALSE) + \n",
    "  ggtitle(\"Social and environmental variation in display microhabitat influences ornamental complexity in birds-of-paradise\")\n"
   ]
  },
  {
   "cell_type": "code",
   "execution_count": null,
   "metadata": {},
   "outputs": [],
   "source": [
    "ggplot(tidyData,aes(x = `Display Proximity`,y = as.numeric(Richness),fill=`Display Proximity`)) +\n",
    "  facet_wrap(~ TypeRichness) +\n",
    "  geom_violin() +\n",
    "  geom_point() +\n",
    "  labs(x = \"Display Proximity\", y = \"Richness (log)\") +\n",
    "  guides(fill=FALSE) +\n",
    "  ggtitle(\"Social and environmental variation in display microhabitat influences ornamental complexity in birds-of-paradise\")\n",
    "\n"
   ]
  }
 ],
 "metadata": {
  "kernelspec": {
   "display_name": "R",
   "language": "R",
   "name": "ir"
  },
  "language_info": {
   "codemirror_mode": "r",
   "file_extension": ".r",
   "mimetype": "text/x-r-source",
   "name": "R",
   "pygments_lexer": "r",
   "version": "3.4.4"
  }
 },
 "nbformat": 4,
 "nbformat_minor": 2
}
