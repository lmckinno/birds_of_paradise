{
 "cells": [
  {
   "cell_type": "markdown",
   "metadata": {},
   "source": [
    "R Code pulled from https://www.statmethods.net/advgraphs/ggplot2.html"
   ]
  },
  {
   "cell_type": "code",
   "execution_count": null,
   "metadata": {},
   "outputs": [],
   "source": [
    "library(tidyverse)\n",
    "birdData <- read_csv(\"journal.pbio.2006962.s003.csv\")\n",
    "birdData <- birdData[,1:9]\n",
    "colnames(birdData) = c(\"Species\", \"Color Richness\", \"Behavioral Richness\", \"Acoustic Richness\", \"Color Diversity\", \"Behavioral Diversity\", \"Acoustic Diversity\", \"Display Proximity\", \"Display Height\")\n",
    "birdData$`Color Richness` = log(birdData$`Color Richness`)\n",
    "birdData$`Behavioral Richness` = log(birdData$`Behavioral Richness`)\n",
    "birdData$`Acoustic Richness` = log(birdData$`Acoustic Richness`)\n",
    "birdData$`Display Height` = factor(birdData$`Display Height`,levels=c(\"ground\",\"understory\",\"canopy\"))\n",
    "birdData$`Display Proximity` = factor(birdData$`Display Proximity`, levels = c(\"Solitary\", \"Exploded Lek\", \"Lek\"))\n",
    "\n",
    "tidyData = gather(birdData,key = \"TypeRichness\", value = \"Richness\",-Species, -`Display Height`, -`Display Proximity`, -`Color Diversity`, -`Behavioral Diversity`, -`Acoustic Diversity`)\n",
    "tidyData$TypeRichness = factor(tidyData$TypeRichness)\n",
    "levels(tidyData$Richness) <- c(\"Acoustic Richness\", \"Behavioral Richness\" , \"Color Richness\")\n"
   ]
  },
  {
   "cell_type": "code",
   "execution_count": null,
   "metadata": {},
   "outputs": [],
   "source": [
    "\n",
    "ggplot(tidyData,aes(x = `Display Height`,y = as.numeric(Richness),fill=`Display Height`)) +\n",
    "  facet_wrap(~ TypeRichness) +\n",
    "   geom_violin() +\n",
    "  geom_point() +\n",
    "  labs(x = \"Display Height\", y = \"Richness (log)\") +\n",
    "  guides(fill=FALSE) + \n",
    "  ggtitle(\"Social and environmental variation in display microhabitat influences\n ornamental complexity in birds-of-paradise\")\n"
   ]
  },
  {
   "cell_type": "code",
   "execution_count": null,
   "metadata": {},
   "outputs": [],
   "source": [
    "ggplot(tidyData,aes(x = `Display Proximity`,y = as.numeric(Richness),fill=`Display Proximity`)) +\n",
    "  facet_wrap(~ TypeRichness) +\n",
    "  geom_violin() +\n",
    "  geom_point() +\n",
    "  labs(x = \"Display Proximity\", y = \"Richness (log)\") +\n",
    "  guides(fill=FALSE) +\n",
    "  ggtitle(\"Social and environmental variation in display microhabitat influences\n ornamental complexity in birds-of-paradise\")\n",
    "\n"
   ]
  }
 ],
 "metadata": {
  "kernelspec": {
   "display_name": "R",
   "language": "R",
   "name": "ir"
  },
  "language_info": {
   "codemirror_mode": "r",
   "file_extension": ".r",
   "mimetype": "text/x-r-source",
   "name": "R",
   "pygments_lexer": "r",
   "version": "3.4.4"
  }
 },
 "nbformat": 4,
 "nbformat_minor": 2
}
